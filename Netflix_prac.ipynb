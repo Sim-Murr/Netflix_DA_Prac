{
  "nbformat": 4,
  "nbformat_minor": 0,
  "metadata": {
    "colab": {
      "provenance": [],
      "mount_file_id": "1wNwZvjmrMrh-w_di9LT2i868qrFY4rJd",
      "authorship_tag": "ABX9TyOPMwgJvMOxJFgLlijoHx08",
      "include_colab_link": true
    },
    "kernelspec": {
      "name": "python3",
      "display_name": "Python 3"
    },
    "language_info": {
      "name": "python"
    }
  },
  "cells": [
    {
      "cell_type": "markdown",
      "metadata": {
        "id": "view-in-github",
        "colab_type": "text"
      },
      "source": [
        "<a href=\"https://colab.research.google.com/github/Sim-Murr/Netflix_DA_Prac/blob/main/Netflix_prac.ipynb\" target=\"_parent\"><img src=\"https://colab.research.google.com/assets/colab-badge.svg\" alt=\"Open In Colab\"/></a>"
      ]
    },
    {
      "cell_type": "markdown",
      "source": [
        "# **Analyzing Netflix Data**\n",
        "\n",
        "I'm going to demonstrate how I did some basic analysis on the recently released Netflix dataset of their most watched shows using Pyspark.\n",
        "\n",
        "I started by importing the modules I may need and creating a spark session."
      ],
      "metadata": {
        "id": "cO613BsCEAwp"
      }
    },
    {
      "cell_type": "code",
      "source": [
        "!pip install pyspark"
      ],
      "metadata": {
        "colab": {
          "base_uri": "https://localhost:8080/"
        },
        "id": "G9ik3DayOInq",
        "outputId": "afc04777-85cf-4461-d8ef-a5b7896656cb"
      },
      "execution_count": 1,
      "outputs": [
        {
          "output_type": "stream",
          "name": "stdout",
          "text": [
            "Collecting pyspark\n",
            "  Downloading pyspark-3.5.0.tar.gz (316.9 MB)\n",
            "\u001b[2K     \u001b[90m━━━━━━━━━━━━━━━━━━━━━━━━━━━━━━━━━━━━━━━━\u001b[0m \u001b[32m316.9/316.9 MB\u001b[0m \u001b[31m4.5 MB/s\u001b[0m eta \u001b[36m0:00:00\u001b[0m\n",
            "\u001b[?25h  Preparing metadata (setup.py) ... \u001b[?25l\u001b[?25hdone\n",
            "Requirement already satisfied: py4j==0.10.9.7 in /usr/local/lib/python3.10/dist-packages (from pyspark) (0.10.9.7)\n",
            "Building wheels for collected packages: pyspark\n",
            "  Building wheel for pyspark (setup.py) ... \u001b[?25l\u001b[?25hdone\n",
            "  Created wheel for pyspark: filename=pyspark-3.5.0-py2.py3-none-any.whl size=317425345 sha256=13137f9a396e3a2d139254f6a5a1afbfd4b299f268710220d339bd8c25b6daa2\n",
            "  Stored in directory: /root/.cache/pip/wheels/41/4e/10/c2cf2467f71c678cfc8a6b9ac9241e5e44a01940da8fbb17fc\n",
            "Successfully built pyspark\n",
            "Installing collected packages: pyspark\n",
            "Successfully installed pyspark-3.5.0\n"
          ]
        }
      ]
    },
    {
      "cell_type": "code",
      "source": [
        "from pyspark.sql import SparkSession, functions as F\n",
        "from pyspark.sql.functions import count, desc , col, max, struct, sum, udf, regexp_replace\n",
        "import matplotlib.pyplot as plt"
      ],
      "metadata": {
        "id": "crdZSNRpOcG0"
      },
      "execution_count": 2,
      "outputs": []
    },
    {
      "cell_type": "code",
      "source": [
        "spark = SparkSession.builder.appName('spark_app').getOrCreate()"
      ],
      "metadata": {
        "id": "BznpMnskOkb1"
      },
      "execution_count": 3,
      "outputs": []
    },
    {
      "cell_type": "markdown",
      "source": [
        "First, I imported my dataset and took a look at it. There are only four columns. The release date column isn't needed for the analysis I want to do so I dropped the column."
      ],
      "metadata": {
        "id": "cohQMJ_tFkAR"
      }
    },
    {
      "cell_type": "code",
      "source": [
        "net_df = spark.read.format('csv').option('inferSchema', True).option('header', True).load('/content/drive/MyDrive/Colab Notebooks/Netflix.csv')\n",
        "net_df.show()"
      ],
      "metadata": {
        "colab": {
          "base_uri": "https://localhost:8080/"
        },
        "id": "aNImtdeTOuMM",
        "outputId": "27d7fc33-cee6-4ed8-eef1-31329883a1fe"
      },
      "execution_count": 4,
      "outputs": [
        {
          "output_type": "stream",
          "name": "stdout",
          "text": [
            "+--------------------+-------------------+------------+------------+\n",
            "|               Title|Available Globally?|Release Date|Hours Viewed|\n",
            "+--------------------+-------------------+------------+------------+\n",
            "|The Night Agent: ...|                Yes|  2023-03-23| 812,100,000|\n",
            "|Ginny & Georgia: ...|                Yes|  2023-01-05| 665,100,000|\n",
            "|The Glory: Season...|                Yes|  2022-12-30| 622,800,000|\n",
            "| Wednesday: Season 1|                Yes|  2022-11-23| 507,700,000|\n",
            "|Queen Charlotte: ...|                Yes|  2023-05-04| 503,000,000|\n",
            "|       You: Season 4|                Yes|  2023-02-09| 440,600,000|\n",
            "|La Reina del Sur:...|                 No|  2022-12-30| 429,600,000|\n",
            "|Outer Banks: Seas...|                Yes|  2023-02-23| 402,500,000|\n",
            "|Ginny & Georgia: ...|                Yes|  2021-02-24| 302,100,000|\n",
            "|     FUBAR: Season 1|                Yes|  2023-05-25| 266,200,000|\n",
            "|  Manifest: Season 4|                Yes|  2022-11-04| 262,600,000|\n",
            "|Kaleidoscope: Lim...|                Yes|  2023-01-01| 252,500,000|\n",
            "|Firefly Lane: Sea...|                Yes|  2022-12-02| 251,500,000|\n",
            "|          The Mother|                Yes|  2023-05-12| 249,900,000|\n",
            "|Physical: 100: Se...|                Yes|  2023-01-24| 235,000,000|\n",
            "|Crash Course in R...|                Yes|  2023-01-14| 234,800,000|\n",
            "|Love Is Blind: Se...|                Yes|  2023-03-24| 229,700,000|\n",
            "|      BEEF: Season 1|                Yes|  2023-04-06| 221,100,000|\n",
            "|The Diplomat: Sea...|                Yes|  2023-04-20| 214,100,000|\n",
            "|Luther: The Falle...|                Yes|  2023-03-10| 209,700,000|\n",
            "+--------------------+-------------------+------------+------------+\n",
            "only showing top 20 rows\n",
            "\n"
          ]
        }
      ]
    },
    {
      "cell_type": "code",
      "source": [
        "net_df = net_df.drop('Release Date')\n",
        "net_df.show()"
      ],
      "metadata": {
        "colab": {
          "base_uri": "https://localhost:8080/"
        },
        "id": "P29W0izjPAwp",
        "outputId": "0a231cd0-04ef-4fb4-9159-65e6b2c56be3"
      },
      "execution_count": 5,
      "outputs": [
        {
          "output_type": "stream",
          "name": "stdout",
          "text": [
            "+--------------------+-------------------+------------+\n",
            "|               Title|Available Globally?|Hours Viewed|\n",
            "+--------------------+-------------------+------------+\n",
            "|The Night Agent: ...|                Yes| 812,100,000|\n",
            "|Ginny & Georgia: ...|                Yes| 665,100,000|\n",
            "|The Glory: Season...|                Yes| 622,800,000|\n",
            "| Wednesday: Season 1|                Yes| 507,700,000|\n",
            "|Queen Charlotte: ...|                Yes| 503,000,000|\n",
            "|       You: Season 4|                Yes| 440,600,000|\n",
            "|La Reina del Sur:...|                 No| 429,600,000|\n",
            "|Outer Banks: Seas...|                Yes| 402,500,000|\n",
            "|Ginny & Georgia: ...|                Yes| 302,100,000|\n",
            "|     FUBAR: Season 1|                Yes| 266,200,000|\n",
            "|  Manifest: Season 4|                Yes| 262,600,000|\n",
            "|Kaleidoscope: Lim...|                Yes| 252,500,000|\n",
            "|Firefly Lane: Sea...|                Yes| 251,500,000|\n",
            "|          The Mother|                Yes| 249,900,000|\n",
            "|Physical: 100: Se...|                Yes| 235,000,000|\n",
            "|Crash Course in R...|                Yes| 234,800,000|\n",
            "|Love Is Blind: Se...|                Yes| 229,700,000|\n",
            "|      BEEF: Season 1|                Yes| 221,100,000|\n",
            "|The Diplomat: Sea...|                Yes| 214,100,000|\n",
            "|Luther: The Falle...|                Yes| 209,700,000|\n",
            "+--------------------+-------------------+------------+\n",
            "only showing top 20 rows\n",
            "\n"
          ]
        }
      ]
    },
    {
      "cell_type": "markdown",
      "source": [
        "I calculated the shape of the dataset for later."
      ],
      "metadata": {
        "id": "vYnqRq8KHLo_"
      }
    },
    {
      "cell_type": "code",
      "source": [
        "shape = (net_df.count(), len(net_df.columns))\n",
        "print(shape)"
      ],
      "metadata": {
        "colab": {
          "base_uri": "https://localhost:8080/"
        },
        "id": "yRew_QVhQo-X",
        "outputId": "fcc7283b-71b8-4e13-b93e-69b902c72b93"
      },
      "execution_count": 6,
      "outputs": [
        {
          "output_type": "stream",
          "name": "stdout",
          "text": [
            "(18214, 3)\n"
          ]
        }
      ]
    },
    {
      "cell_type": "markdown",
      "source": [
        "I changed the column names of Available Globally? and Hours Viewed to something more manageable with the code."
      ],
      "metadata": {
        "id": "akIX9vt0H919"
      }
    },
    {
      "cell_type": "code",
      "source": [
        "net_df = net_df.withColumnRenamed('Available Globally?', 'available_globally')\n",
        "net_df.show()"
      ],
      "metadata": {
        "colab": {
          "base_uri": "https://localhost:8080/"
        },
        "id": "Uzx9uc9dRIEW",
        "outputId": "c8aeedea-2841-484e-ccfb-af91bc55065e"
      },
      "execution_count": 7,
      "outputs": [
        {
          "output_type": "stream",
          "name": "stdout",
          "text": [
            "+--------------------+------------------+------------+\n",
            "|               Title|available_globally|Hours Viewed|\n",
            "+--------------------+------------------+------------+\n",
            "|The Night Agent: ...|               Yes| 812,100,000|\n",
            "|Ginny & Georgia: ...|               Yes| 665,100,000|\n",
            "|The Glory: Season...|               Yes| 622,800,000|\n",
            "| Wednesday: Season 1|               Yes| 507,700,000|\n",
            "|Queen Charlotte: ...|               Yes| 503,000,000|\n",
            "|       You: Season 4|               Yes| 440,600,000|\n",
            "|La Reina del Sur:...|                No| 429,600,000|\n",
            "|Outer Banks: Seas...|               Yes| 402,500,000|\n",
            "|Ginny & Georgia: ...|               Yes| 302,100,000|\n",
            "|     FUBAR: Season 1|               Yes| 266,200,000|\n",
            "|  Manifest: Season 4|               Yes| 262,600,000|\n",
            "|Kaleidoscope: Lim...|               Yes| 252,500,000|\n",
            "|Firefly Lane: Sea...|               Yes| 251,500,000|\n",
            "|          The Mother|               Yes| 249,900,000|\n",
            "|Physical: 100: Se...|               Yes| 235,000,000|\n",
            "|Crash Course in R...|               Yes| 234,800,000|\n",
            "|Love Is Blind: Se...|               Yes| 229,700,000|\n",
            "|      BEEF: Season 1|               Yes| 221,100,000|\n",
            "|The Diplomat: Sea...|               Yes| 214,100,000|\n",
            "|Luther: The Falle...|               Yes| 209,700,000|\n",
            "+--------------------+------------------+------------+\n",
            "only showing top 20 rows\n",
            "\n"
          ]
        }
      ]
    },
    {
      "cell_type": "code",
      "source": [
        "net_df = net_df.withColumnRenamed('Hours Viewed', 'hours_viewed')\n",
        "net_df.show()"
      ],
      "metadata": {
        "colab": {
          "base_uri": "https://localhost:8080/"
        },
        "id": "_uYQd2RFUzNI",
        "outputId": "33b60e01-0c1e-4397-8bde-7914f5b47959"
      },
      "execution_count": 8,
      "outputs": [
        {
          "output_type": "stream",
          "name": "stdout",
          "text": [
            "+--------------------+------------------+------------+\n",
            "|               Title|available_globally|hours_viewed|\n",
            "+--------------------+------------------+------------+\n",
            "|The Night Agent: ...|               Yes| 812,100,000|\n",
            "|Ginny & Georgia: ...|               Yes| 665,100,000|\n",
            "|The Glory: Season...|               Yes| 622,800,000|\n",
            "| Wednesday: Season 1|               Yes| 507,700,000|\n",
            "|Queen Charlotte: ...|               Yes| 503,000,000|\n",
            "|       You: Season 4|               Yes| 440,600,000|\n",
            "|La Reina del Sur:...|                No| 429,600,000|\n",
            "|Outer Banks: Seas...|               Yes| 402,500,000|\n",
            "|Ginny & Georgia: ...|               Yes| 302,100,000|\n",
            "|     FUBAR: Season 1|               Yes| 266,200,000|\n",
            "|  Manifest: Season 4|               Yes| 262,600,000|\n",
            "|Kaleidoscope: Lim...|               Yes| 252,500,000|\n",
            "|Firefly Lane: Sea...|               Yes| 251,500,000|\n",
            "|          The Mother|               Yes| 249,900,000|\n",
            "|Physical: 100: Se...|               Yes| 235,000,000|\n",
            "|Crash Course in R...|               Yes| 234,800,000|\n",
            "|Love Is Blind: Se...|               Yes| 229,700,000|\n",
            "|      BEEF: Season 1|               Yes| 221,100,000|\n",
            "|The Diplomat: Sea...|               Yes| 214,100,000|\n",
            "|Luther: The Falle...|               Yes| 209,700,000|\n",
            "+--------------------+------------------+------------+\n",
            "only showing top 20 rows\n",
            "\n"
          ]
        }
      ]
    },
    {
      "cell_type": "markdown",
      "source": [
        "I printed out the schema to check the data types of each column. The hours_viewed column should be integers, so that I can do some calculations later. To do this, I used the regexp_replace function to remove the commas that would get in the way later.\n",
        "\n",
        "I imported LongType to change the string values into integers since it would give long numbers."
      ],
      "metadata": {
        "id": "kjvECWeJJMU-"
      }
    },
    {
      "cell_type": "code",
      "source": [
        "net_df.printSchema()"
      ],
      "metadata": {
        "colab": {
          "base_uri": "https://localhost:8080/"
        },
        "id": "5xvQCBn7X5Vd",
        "outputId": "83b07a8c-d664-4e94-b378-3357a0e3358b"
      },
      "execution_count": 9,
      "outputs": [
        {
          "output_type": "stream",
          "name": "stdout",
          "text": [
            "root\n",
            " |-- Title: string (nullable = true)\n",
            " |-- available_globally: string (nullable = true)\n",
            " |-- hours_viewed: string (nullable = true)\n",
            "\n"
          ]
        }
      ]
    },
    {
      "cell_type": "code",
      "source": [
        "net_df = net_df.withColumn('hours_viewed', regexp_replace(col(\"hours_viewed\"), \",\", \"\"))\n",
        "net_df.show()"
      ],
      "metadata": {
        "colab": {
          "base_uri": "https://localhost:8080/"
        },
        "id": "zW3DheZIwbQc",
        "outputId": "b69882df-eaa8-4a0b-fb4b-6bb35c655b9f"
      },
      "execution_count": 10,
      "outputs": [
        {
          "output_type": "stream",
          "name": "stdout",
          "text": [
            "+--------------------+------------------+------------+\n",
            "|               Title|available_globally|hours_viewed|\n",
            "+--------------------+------------------+------------+\n",
            "|The Night Agent: ...|               Yes|   812100000|\n",
            "|Ginny & Georgia: ...|               Yes|   665100000|\n",
            "|The Glory: Season...|               Yes|   622800000|\n",
            "| Wednesday: Season 1|               Yes|   507700000|\n",
            "|Queen Charlotte: ...|               Yes|   503000000|\n",
            "|       You: Season 4|               Yes|   440600000|\n",
            "|La Reina del Sur:...|                No|   429600000|\n",
            "|Outer Banks: Seas...|               Yes|   402500000|\n",
            "|Ginny & Georgia: ...|               Yes|   302100000|\n",
            "|     FUBAR: Season 1|               Yes|   266200000|\n",
            "|  Manifest: Season 4|               Yes|   262600000|\n",
            "|Kaleidoscope: Lim...|               Yes|   252500000|\n",
            "|Firefly Lane: Sea...|               Yes|   251500000|\n",
            "|          The Mother|               Yes|   249900000|\n",
            "|Physical: 100: Se...|               Yes|   235000000|\n",
            "|Crash Course in R...|               Yes|   234800000|\n",
            "|Love Is Blind: Se...|               Yes|   229700000|\n",
            "|      BEEF: Season 1|               Yes|   221100000|\n",
            "|The Diplomat: Sea...|               Yes|   214100000|\n",
            "|Luther: The Falle...|               Yes|   209700000|\n",
            "+--------------------+------------------+------------+\n",
            "only showing top 20 rows\n",
            "\n"
          ]
        }
      ]
    },
    {
      "cell_type": "code",
      "source": [
        "from pyspark.sql.types import IntegerType, LongType"
      ],
      "metadata": {
        "id": "OAdKJo0RZoda"
      },
      "execution_count": 11,
      "outputs": []
    },
    {
      "cell_type": "code",
      "source": [
        "net_df_ = net_df.withColumn(\"hours_viewed\", net_df.hours_viewed.cast(LongType()))"
      ],
      "metadata": {
        "id": "h3Z-IZUcX_v5"
      },
      "execution_count": 12,
      "outputs": []
    },
    {
      "cell_type": "markdown",
      "source": [
        "Out of curiosity I created 2 dataframes showing which titles were available globally or not."
      ],
      "metadata": {
        "id": "IjjyB2hfLPFJ"
      }
    },
    {
      "cell_type": "code",
      "source": [
        "global_yes = net_df.select('*').filter(net_df.available_globally == 'Yes')\n",
        "global_yes.show()"
      ],
      "metadata": {
        "colab": {
          "base_uri": "https://localhost:8080/"
        },
        "id": "ldFKCl9LZ_rr",
        "outputId": "cebdf326-d3c0-44e4-b68d-c62e677c06a2"
      },
      "execution_count": 13,
      "outputs": [
        {
          "output_type": "stream",
          "name": "stdout",
          "text": [
            "+--------------------+------------------+------------+\n",
            "|               Title|available_globally|hours_viewed|\n",
            "+--------------------+------------------+------------+\n",
            "|The Night Agent: ...|               Yes|   812100000|\n",
            "|Ginny & Georgia: ...|               Yes|   665100000|\n",
            "|The Glory: Season...|               Yes|   622800000|\n",
            "| Wednesday: Season 1|               Yes|   507700000|\n",
            "|Queen Charlotte: ...|               Yes|   503000000|\n",
            "|       You: Season 4|               Yes|   440600000|\n",
            "|Outer Banks: Seas...|               Yes|   402500000|\n",
            "|Ginny & Georgia: ...|               Yes|   302100000|\n",
            "|     FUBAR: Season 1|               Yes|   266200000|\n",
            "|  Manifest: Season 4|               Yes|   262600000|\n",
            "|Kaleidoscope: Lim...|               Yes|   252500000|\n",
            "|Firefly Lane: Sea...|               Yes|   251500000|\n",
            "|          The Mother|               Yes|   249900000|\n",
            "|Physical: 100: Se...|               Yes|   235000000|\n",
            "|Crash Course in R...|               Yes|   234800000|\n",
            "|Love Is Blind: Se...|               Yes|   229700000|\n",
            "|      BEEF: Season 1|               Yes|   221100000|\n",
            "|The Diplomat: Sea...|               Yes|   214100000|\n",
            "|Luther: The Falle...|               Yes|   209700000|\n",
            "|Vikings: Valhalla...|               Yes|   205500000|\n",
            "+--------------------+------------------+------------+\n",
            "only showing top 20 rows\n",
            "\n"
          ]
        }
      ]
    },
    {
      "cell_type": "code",
      "source": [
        "global_no = net_df.select('*').filter(net_df.available_globally == 'No')\n",
        "global_no.show()"
      ],
      "metadata": {
        "colab": {
          "base_uri": "https://localhost:8080/"
        },
        "id": "VdE0yhq9a79a",
        "outputId": "eda6a477-37fd-4ab0-93bb-e7ee8fc69f01"
      },
      "execution_count": 14,
      "outputs": [
        {
          "output_type": "stream",
          "name": "stdout",
          "text": [
            "+---------------------+------------------+------------+\n",
            "|                Title|available_globally|hours_viewed|\n",
            "+---------------------+------------------+------------+\n",
            "| La Reina del Sur:...|                No|   429600000|\n",
            "| Fake Profile: Sea...|                No|   206500000|\n",
            "| The Surrogacy: Se...|                No|   172400000|\n",
            "|   Chiquititas (2013)|                No|   162000000|\n",
            "| New Amsterdam (20...|                No|   153000000|\n",
            "| Til Money Do Us P...|                No|   152100000|\n",
            "|Mr. Queen // 철인왕후|                No|   151500000|\n",
            "|   Manifest: Season 1|                No|   151400000|\n",
            "| PAW Patrol: Season 6|                No|   149300000|\n",
            "| Wrong Side of the...|                No|   140100000|\n",
            "| The Walking Dead:...|                No|   136800000|\n",
            "|  CoComelon: Season 1|                No|   136200000|\n",
            "| PAW Patrol: Season 5|                No|   130700000|\n",
            "| Pasión de Gavilan...|                No|   129200000|\n",
            "| Breaking Bad: Sea...|                No|   116200000|\n",
            "| Breaking Bad: Sea...|                No|   107000000|\n",
            "| Breaking Bad: Sea...|                No|   104300000|\n",
            "|    Lucifer: Season 3|                No|   102800000|\n",
            "|  CoComelon: Season 2|                No|   102300000|\n",
            "| Café con aroma de...|                No|   101700000|\n",
            "+---------------------+------------------+------------+\n",
            "only showing top 20 rows\n",
            "\n"
          ]
        }
      ]
    },
    {
      "cell_type": "markdown",
      "source": [
        "I used the groupby() and count() functions to see the totals of the titles available globally or not.\n",
        "There seems to be many more titles that are not globally available than are globally available."
      ],
      "metadata": {
        "id": "vM8f9kW0MLWL"
      }
    },
    {
      "cell_type": "code",
      "source": [
        "global_yn = net_df.select('available_globally').groupby(\"available_globally\").agg(count('available_globally').alias('count'))\n",
        "global_yn.show()"
      ],
      "metadata": {
        "colab": {
          "base_uri": "https://localhost:8080/"
        },
        "id": "QVSvqe6Vb4zh",
        "outputId": "cce6fd4b-2161-4525-8a65-de1517f0171f"
      },
      "execution_count": 15,
      "outputs": [
        {
          "output_type": "stream",
          "name": "stdout",
          "text": [
            "+------------------+-----+\n",
            "|available_globally|count|\n",
            "+------------------+-----+\n",
            "|                No|13700|\n",
            "|               Yes| 4514|\n",
            "+------------------+-----+\n",
            "\n"
          ]
        }
      ]
    },
    {
      "cell_type": "code",
      "source": [
        "net_df.printSchema()"
      ],
      "metadata": {
        "colab": {
          "base_uri": "https://localhost:8080/"
        },
        "id": "B5UBVxHbgA--",
        "outputId": "381b737e-401d-43d3-db92-a37e968596d0"
      },
      "execution_count": 33,
      "outputs": [
        {
          "output_type": "stream",
          "name": "stdout",
          "text": [
            "root\n",
            " |-- Title: string (nullable = true)\n",
            " |-- available_globally: string (nullable = true)\n",
            " |-- hours_viewed: string (nullable = true)\n",
            "\n"
          ]
        }
      ]
    },
    {
      "cell_type": "markdown",
      "source": [
        "I used groupby() to group my unique values in the available_globally column and then used the aggregate function sum to add up all the hours for each of the available_globally unique values.\n",
        "\n",
        " I created a small bar graph using matplotlib for a better visualization. Seems that overall, shows that are available globally were watched more than shows that were not."
      ],
      "metadata": {
        "id": "ZYhXQnFgmYVQ"
      }
    },
    {
      "cell_type": "code",
      "source": [
        "sum_global = net_df.select('available_globally', 'hours_viewed').groupby(\"available_globally\").agg(F.sum('hours_viewed').alias('sum'))\n",
        "sum_global.show()"
      ],
      "metadata": {
        "colab": {
          "base_uri": "https://localhost:8080/"
        },
        "id": "uqIELM48c5Os",
        "outputId": "10447c60-1ddc-4d52-f4d8-805a6ad58e42"
      },
      "execution_count": 34,
      "outputs": [
        {
          "output_type": "stream",
          "name": "stdout",
          "text": [
            "+------------------+----------+\n",
            "|available_globally|       sum|\n",
            "+------------------+----------+\n",
            "|                No|4.53169E10|\n",
            "|               Yes|4.81383E10|\n",
            "+------------------+----------+\n",
            "\n"
          ]
        }
      ]
    },
    {
      "cell_type": "code",
      "source": [
        "sum_list = sum_global.collect()\n",
        "labels = [row['available_globally'] for row in sum_list]\n",
        "counts = [row['sum'] for row in sum_list]\n",
        "plt.bar(labels, counts, color='pink')"
      ],
      "metadata": {
        "colab": {
          "base_uri": "https://localhost:8080/",
          "height": 463
        },
        "id": "1I1MIgzxt4jj",
        "outputId": "eefbff7f-e824-47c6-9ccd-f38f328d3c8a"
      },
      "execution_count": 18,
      "outputs": [
        {
          "output_type": "execute_result",
          "data": {
            "text/plain": [
              "<BarContainer object of 2 artists>"
            ]
          },
          "metadata": {},
          "execution_count": 18
        },
        {
          "output_type": "display_data",
          "data": {
            "text/plain": [
              "<Figure size 640x480 with 1 Axes>"
            ],
            "image/png": "[encoded data removed]"
          },
          "metadata": {}
        }
      ]
    },
    {
      "cell_type": "markdown",
      "source": [
        "I used the orderBy() function to find the top 10 most viewed shows. The most watched show was a korean romcom called Love to Hate You: Season 1. This show was available globally as well. From this dataframe it seems that the most viewed show that was not available globally was The Blacklist: Season 1."
      ],
      "metadata": {
        "id": "ZYdDmg8pnJRZ"
      }
    },
    {
      "cell_type": "code",
      "source": [
        "most_watched = net_df.select('*').orderBy(desc('hours_viewed')).limit(10)\n",
        "most_watched.show()"
      ],
      "metadata": {
        "colab": {
          "base_uri": "https://localhost:8080/"
        },
        "id": "RuPj7vgZ22MU",
        "outputId": "6d9eba92-7eb9-4c86-90c0-081bdc8baef0"
      },
      "execution_count": 19,
      "outputs": [
        {
          "output_type": "stream",
          "name": "stdout",
          "text": [
            "+--------------------+------------------+------------+\n",
            "|               Title|available_globally|hours_viewed|\n",
            "+--------------------+------------------+------------+\n",
            "|Love to Hate You:...|               Yes|    99900000|\n",
            "|The Blacklist: Se...|                No|    99900000|\n",
            "|Shadow and Bone: ...|               Yes|    99500000|\n",
            "|The Unbroken Voic...|                No|    99000000|\n",
            "|Bill Russell: Legend|               Yes|     9900000|\n",
            "|    Falling Inn Love|               Yes|     9900000|\n",
            "|  Fugitiva: Season 1|               Yes|     9900000|\n",
            "|Mighty Little Bhe...|               Yes|     9900000|\n",
            "|Grace and Frankie...|               Yes|     9900000|\n",
            "|13 Reasons Why: S...|               Yes|     9900000|\n",
            "+--------------------+------------------+------------+\n",
            "\n"
          ]
        }
      ]
    },
    {
      "cell_type": "code",
      "source": [
        "most_watched.first()['Title']"
      ],
      "metadata": {
        "colab": {
          "base_uri": "https://localhost:8080/",
          "height": 35
        },
        "id": "d27mkUNcBDdt",
        "outputId": "159425f0-6dd5-4dbc-fa7b-b86df9012c67"
      },
      "execution_count": 20,
      "outputs": [
        {
          "output_type": "execute_result",
          "data": {
            "text/plain": [
              "'Love to Hate You: Season 1 // 연애대전: 시즌 1'"
            ],
            "application/vnd.google.colaboratory.intrinsic+json": {
              "type": "string"
            }
          },
          "metadata": {},
          "execution_count": 20
        }
      ]
    },
    {
      "cell_type": "code",
      "source": [
        "most_watched.collect()[1][0]"
      ],
      "metadata": {
        "colab": {
          "base_uri": "https://localhost:8080/",
          "height": 35
        },
        "id": "Vy8lSyzsCd5M",
        "outputId": "07346dfc-da89-4dbb-f3f3-bf5fe57d92fb"
      },
      "execution_count": 32,
      "outputs": [
        {
          "output_type": "execute_result",
          "data": {
            "text/plain": [
              "'The Blacklist: Season 1'"
            ],
            "application/vnd.google.colaboratory.intrinsic+json": {
              "type": "string"
            }
          },
          "metadata": {},
          "execution_count": 32
        }
      ]
    },
    {
      "cell_type": "code",
      "source": [],
      "metadata": {
        "id": "TuPmuM9AVJ_S"
      },
      "execution_count": null,
      "outputs": []
    }
  ]
}